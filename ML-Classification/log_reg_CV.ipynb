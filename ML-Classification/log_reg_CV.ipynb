{
 "cells": [
  {
   "cell_type": "markdown",
   "metadata": {},
   "source": [
    "<h3> Overview </h3>\n",
    "Tune hyperparameters of logistic regression model. <br>\n",
    "Then evaluate the models. \n",
    "\n",
    "Working with following 4 datasets: \n",
    "\n",
    "white_wine_trans_5Q <br>\n",
    "red_wine_trans_5Q <br>\n",
    "\n",
    "white_wine_trans_3Q <br>\n",
    "red_wine_trans_3Q <br>\n",
    "\n",
    "\n",
    "Resampling is also attempted, using SMOTE, but this does not improve evaluation metrics scores. <br>\n",
    "\n"
   ]
  },
  {
   "cell_type": "code",
   "execution_count": 1,
   "metadata": {},
   "outputs": [],
   "source": [
    "import numpy as np\n",
    "import pandas as pd\n",
    "import matplotlib.pyplot as plt\n",
    "import seaborn as sns\n",
    "from sklearn.linear_model import LinearRegression, Ridge, RidgeCV, Lasso, LassoCV, ElasticNet, ElasticNetCV, LogisticRegression\n",
    "from sklearn.metrics import mean_squared_error\n",
    "from sklearn.preprocessing import PolynomialFeatures, StandardScaler\n",
    "from sklearn.model_selection import train_test_split, cross_val_score, cross_validate, GridSearchCV, RandomizedSearchCV\n",
    "from sklearn.metrics import accuracy_score,confusion_matrix,classification_report,plot_confusion_matrix, f1_score, ConfusionMatrixDisplay\n",
    "\n",
    "from sklearn.neighbors import KNeighborsClassifier\n",
    "from sklearn.svm import SVC\n",
    "\n",
    "from sklearn.pipeline import Pipeline\n",
    "\n",
    "import imblearn\n",
    "from imblearn.over_sampling import SMOTE\n",
    "from imblearn.under_sampling import RandomUnderSampler\n",
    "\n",
    "from sklearn.tree import DecisionTreeClassifier\n",
    "\n",
    "import warnings"
   ]
  },
  {
   "cell_type": "code",
   "execution_count": 2,
   "metadata": {},
   "outputs": [],
   "source": [
    "warnings.filterwarnings('ignore')"
   ]
  },
  {
   "cell_type": "markdown",
   "metadata": {},
   "source": [
    "<h1> Import Transformed Data </h1>"
   ]
  },
  {
   "cell_type": "markdown",
   "metadata": {},
   "source": [
    "<h2> 5 Quality Labels </h2>"
   ]
  },
  {
   "cell_type": "markdown",
   "metadata": {},
   "source": [
    "<h3> White Wine </h3>"
   ]
  },
  {
   "cell_type": "code",
   "execution_count": 3,
   "metadata": {},
   "outputs": [],
   "source": [
    "white_wine_trans_5Q = pd.read_csv('../transformed_wine_data/white_wine_trans_5Q.csv')"
   ]
  },
  {
   "cell_type": "code",
   "execution_count": 4,
   "metadata": {},
   "outputs": [],
   "source": [
    "X_white = white_wine_trans_5Q.drop(['quality_label', 'quality', 'type'], axis = 1)\n",
    "y_white = white_wine_trans_5Q['quality_label']"
   ]
  },
  {
   "cell_type": "code",
   "execution_count": 5,
   "metadata": {},
   "outputs": [],
   "source": [
    "# Train | Test split\n",
    "X_train, X_test, y_train, y_test = train_test_split(X_white, y_white, test_size=0.3, random_state=101, stratify = y_white)"
   ]
  },
  {
   "cell_type": "code",
   "execution_count": 6,
   "metadata": {},
   "outputs": [],
   "source": [
    "# Scale the data\n",
    "scaler = StandardScaler()\n",
    "scaler.fit(X_train)\n",
    "scaled_X_train = scaler.transform(X_train)\n",
    "scaled_X_test = scaler.transform(X_test)"
   ]
  },
  {
   "cell_type": "code",
   "execution_count": 7,
   "metadata": {},
   "outputs": [],
   "source": [
    "# Create base log reg model\n",
    "log_model = LogisticRegression(solver='saga',multi_class=\"ovr\",max_iter=5000)\n",
    "\n",
    "penalty = ['l1', 'l2']\n",
    "C = np.linspace(0.001,100,10)\n",
    "\n",
    "param_grid = {'penalty': penalty, 'C': C}\n",
    "\n",
    "#grid_model = RandomizedSearchCV(log_model,param_distributions=param_grid, n_iter = 10)\n",
    "grid_model = GridSearchCV(log_model,param_grid=param_grid)"
   ]
  },
  {
   "cell_type": "code",
   "execution_count": 8,
   "metadata": {},
   "outputs": [
    {
     "data": {
      "text/plain": [
       "GridSearchCV(estimator=LogisticRegression(max_iter=5000, multi_class='ovr',\n",
       "                                          solver='saga'),\n",
       "             param_grid={'C': array([1.0000e-03, 1.1112e+01, 2.2223e+01, 3.3334e+01, 4.4445e+01,\n",
       "       5.5556e+01, 6.6667e+01, 7.7778e+01, 8.8889e+01, 1.0000e+02]),\n",
       "                         'penalty': ['l1', 'l2']})"
      ]
     },
     "execution_count": 8,
     "metadata": {},
     "output_type": "execute_result"
    }
   ],
   "source": [
    "grid_model.fit(scaled_X_train, y_train)"
   ]
  },
  {
   "cell_type": "code",
   "execution_count": 9,
   "metadata": {},
   "outputs": [
    {
     "data": {
      "text/plain": [
       "{'C': 66.667, 'penalty': 'l1'}"
      ]
     },
     "execution_count": 9,
     "metadata": {},
     "output_type": "execute_result"
    }
   ],
   "source": [
    "grid_model.best_params_"
   ]
  },
  {
   "cell_type": "code",
   "execution_count": 10,
   "metadata": {},
   "outputs": [
    {
     "name": "stdout",
     "output_type": "stream",
     "text": [
      "              precision    recall  f1-score   support\n",
      "\n",
      "        high       0.00      0.00      0.00        54\n",
      "         low       0.00      0.00      0.00        55\n",
      "lower_middle       0.59      0.57      0.58       437\n",
      "      middle       0.53      0.76      0.63       660\n",
      "upper_middle       0.48      0.18      0.26       264\n",
      "\n",
      "    accuracy                           0.54      1470\n",
      "   macro avg       0.32      0.30      0.29      1470\n",
      "weighted avg       0.50      0.54      0.50      1470\n",
      "\n"
     ]
    }
   ],
   "source": [
    "y_pred = grid_model.predict(scaled_X_test)\n",
    "print(classification_report(y_test,y_pred))"
   ]
  },
  {
   "cell_type": "code",
   "execution_count": 11,
   "metadata": {},
   "outputs": [
    {
     "data": {
      "text/plain": [
       "Text(0.5, 1.0, 'logistic regression – white wine – 5 labels')"
      ]
     },
     "execution_count": 11,
     "metadata": {},
     "output_type": "execute_result"
    },
    {
     "data": {
      "text/plain": [
       "<Figure size 432x288 with 0 Axes>"
      ]
     },
     "metadata": {},
     "output_type": "display_data"
    },
    {
     "data": {
      "image/png": "[encoded data removed]",
      "text/plain": [
       "<Figure size 432x288 with 2 Axes>"
      ]
     },
     "metadata": {
      "needs_background": "light"
     },
     "output_type": "display_data"
    }
   ],
   "source": [
    "plt.figure()\n",
    "plot_confusion_matrix(grid_model, scaled_X_test, y_test)\n",
    "plt.xticks(rotation = 90)\n",
    "plt.title('logistic regression – white wine – 5 labels')\n"
   ]
  },
  {
   "cell_type": "markdown",
   "metadata": {},
   "source": [
    "<h3> 5 Quality Labels – White Wine – with Resampling (through SMOTE) </h3>"
   ]
  },
  {
   "cell_type": "code",
   "execution_count": 12,
   "metadata": {},
   "outputs": [],
   "source": [
    "white_wine_trans_5Q = pd.read_csv('../transformed_wine_data/white_wine_trans_5Q.csv')"
   ]
  },
  {
   "cell_type": "code",
   "execution_count": 13,
   "metadata": {},
   "outputs": [],
   "source": [
    "X_white = white_wine_trans_5Q.drop(['quality_label', 'quality', 'type'], axis = 1)\n",
    "y_white = white_wine_trans_5Q['quality_label']"
   ]
  },
  {
   "cell_type": "code",
   "execution_count": 14,
   "metadata": {},
   "outputs": [],
   "source": [
    "# Train | Test split\n",
    "X_train, X_test, y_train, y_test = train_test_split(X_white, y_white, test_size=0.3, random_state=101, stratify = y_white)"
   ]
  },
  {
   "cell_type": "code",
   "execution_count": 15,
   "metadata": {},
   "outputs": [],
   "source": [
    "# Scale the data\n",
    "scaler = StandardScaler()\n",
    "scaler.fit(X_train)\n",
    "scaled_X_train = scaler.transform(X_train)\n",
    "scaled_X_test = scaler.transform(X_test)"
   ]
  },
  {
   "cell_type": "code",
   "execution_count": 16,
   "metadata": {},
   "outputs": [
    {
     "data": {
      "text/plain": [
       "middle          1538\n",
       "lower_middle    1020\n",
       "upper_middle     616\n",
       "low              128\n",
       "high             126\n",
       "Name: quality_label, dtype: int64"
      ]
     },
     "execution_count": 16,
     "metadata": {},
     "output_type": "execute_result"
    }
   ],
   "source": [
    "y_train.value_counts()"
   ]
  },
  {
   "cell_type": "code",
   "execution_count": 17,
   "metadata": {},
   "outputs": [],
   "source": [
    "# Undersample from majority classes; undersample from minority classes\n",
    "\n",
    "under_strategy_white = {'middle': 900, 'lower_middle': 900, 'upper_middle': 600, 'low': 128, 'high': 126}\n",
    "over_strategy_white = {'middle': 900, 'lower_middle': 900, 'upper_middle': 800, 'low': 400, 'high': 400}\n",
    "\n",
    "under_white = RandomUnderSampler(sampling_strategy = under_strategy_white)\n",
    "over_white = SMOTE (sampling_strategy = over_strategy_white)\n",
    "\n",
    "scaled_X_train, y_train = under_white.fit_resample(scaled_X_train, y_train)\n",
    "scaled_X_train, y_train = over_white.fit_resample(scaled_X_train, y_train)"
   ]
  },
  {
   "cell_type": "code",
   "execution_count": 18,
   "metadata": {},
   "outputs": [
    {
     "data": {
      "text/plain": [
       "lower_middle    900\n",
       "middle          900\n",
       "upper_middle    800\n",
       "high            400\n",
       "low             400\n",
       "Name: quality_label, dtype: int64"
      ]
     },
     "execution_count": 18,
     "metadata": {},
     "output_type": "execute_result"
    }
   ],
   "source": [
    "y_train.value_counts()"
   ]
  },
  {
   "cell_type": "code",
   "execution_count": 19,
   "metadata": {},
   "outputs": [],
   "source": [
    "# Create log reg model\n",
    "log_model = LogisticRegression(solver='saga',multi_class=\"ovr\",max_iter=5000)\n",
    "\n",
    "penalty = ['l1', 'l2']\n",
    "C = np.linspace(0.001,100,10)\n",
    "\n",
    "param_grid = {'penalty': penalty, 'C': C}\n",
    "\n",
    "#grid_model = RandomizedSearchCV(log_model,param_distributions=param_grid, n_iter = 10)\n",
    "grid_model = GridSearchCV(log_model,param_grid=param_grid)"
   ]
  },
  {
   "cell_type": "code",
   "execution_count": 20,
   "metadata": {},
   "outputs": [
    {
     "data": {
      "text/plain": [
       "GridSearchCV(estimator=LogisticRegression(max_iter=5000, multi_class='ovr',\n",
       "                                          solver='saga'),\n",
       "             param_grid={'C': array([1.0000e-03, 1.1112e+01, 2.2223e+01, 3.3334e+01, 4.4445e+01,\n",
       "       5.5556e+01, 6.6667e+01, 7.7778e+01, 8.8889e+01, 1.0000e+02]),\n",
       "                         'penalty': ['l1', 'l2']})"
      ]
     },
     "execution_count": 20,
     "metadata": {},
     "output_type": "execute_result"
    }
   ],
   "source": [
    "grid_model.fit(scaled_X_train, y_train)"
   ]
  },
  {
   "cell_type": "code",
   "execution_count": 21,
   "metadata": {},
   "outputs": [
    {
     "data": {
      "text/plain": [
       "{'C': 22.223, 'penalty': 'l2'}"
      ]
     },
     "execution_count": 21,
     "metadata": {},
     "output_type": "execute_result"
    }
   ],
   "source": [
    "grid_model.best_params_"
   ]
  },
  {
   "cell_type": "code",
   "execution_count": 22,
   "metadata": {},
   "outputs": [
    {
     "name": "stdout",
     "output_type": "stream",
     "text": [
      "              precision    recall  f1-score   support\n",
      "\n",
      "        high       0.05      0.02      0.03        54\n",
      "         low       0.28      0.36      0.32        55\n",
      "lower_middle       0.52      0.67      0.58       437\n",
      "      middle       0.58      0.32      0.41       660\n",
      "upper_middle       0.36      0.63      0.46       264\n",
      "\n",
      "    accuracy                           0.47      1470\n",
      "   macro avg       0.36      0.40      0.36      1470\n",
      "weighted avg       0.49      0.47      0.45      1470\n",
      "\n"
     ]
    }
   ],
   "source": [
    "y_pred = grid_model.predict(scaled_X_test)\n",
    "print(classification_report(y_test,y_pred))"
   ]
  },
  {
   "cell_type": "code",
   "execution_count": 23,
   "metadata": {},
   "outputs": [
    {
     "data": {
      "text/plain": [
       "Text(0.5, 1.0, 'logistic regression – white wine – 5 labels')"
      ]
     },
     "execution_count": 23,
     "metadata": {},
     "output_type": "execute_result"
    },
    {
     "data": {
      "text/plain": [
       "<Figure size 432x288 with 0 Axes>"
      ]
     },
     "metadata": {},
     "output_type": "display_data"
    },
    {
     "data": {
      "image/png": "[encoded data removed]",
      "text/plain": [
       "<Figure size 432x288 with 2 Axes>"
      ]
     },
     "metadata": {
      "needs_background": "light"
     },
     "output_type": "display_data"
    }
   ],
   "source": [
    "plt.figure()\n",
    "plot_confusion_matrix(grid_model, scaled_X_test, y_test)\n",
    "plt.xticks(rotation = 90)\n",
    "plt.title('logistic regression – white wine – 5 labels')\n"
   ]
  },
  {
   "cell_type": "markdown",
   "metadata": {},
   "source": [
    "<h2> 3 Quality Labels </h2>"
   ]
  },
  {
   "cell_type": "markdown",
   "metadata": {},
   "source": [
    "<h3> White Wine </h3>"
   ]
  },
  {
   "cell_type": "code",
   "execution_count": 24,
   "metadata": {},
   "outputs": [],
   "source": [
    "white_wine_trans_3Q = pd.read_csv('../transformed_wine_data/white_wine_trans_3Q.csv')"
   ]
  },
  {
   "cell_type": "code",
   "execution_count": 25,
   "metadata": {},
   "outputs": [],
   "source": [
    "X_white = white_wine_trans_3Q.drop(['quality_label', 'quality', 'type'], axis = 1)\n",
    "y_white = white_wine_trans_3Q['quality_label']"
   ]
  },
  {
   "cell_type": "code",
   "execution_count": 26,
   "metadata": {},
   "outputs": [],
   "source": [
    "# Train | Test split\n",
    "X_train, X_test, y_train, y_test = train_test_split(X_white, y_white, test_size=0.3, random_state=101, stratify = y_white)"
   ]
  },
  {
   "cell_type": "code",
   "execution_count": 27,
   "metadata": {},
   "outputs": [],
   "source": [
    "# Scale the data\n",
    "scaler = StandardScaler()\n",
    "scaler.fit(X_train)\n",
    "scaled_X_train = scaler.transform(X_train)\n",
    "scaled_X_test = scaler.transform(X_test)"
   ]
  },
  {
   "cell_type": "code",
   "execution_count": 28,
   "metadata": {},
   "outputs": [],
   "source": [
    "# Create base log reg model\n",
    "log_model = LogisticRegression(solver='saga',multi_class=\"ovr\",max_iter=5000)\n",
    "\n",
    "penalty = ['l1', 'l2']\n",
    "C = np.linspace(0.001,2,10)\n",
    "\n",
    "param_grid = {'penalty': penalty, 'C': C}\n",
    "\n",
    "#grid_model = RandomizedSearchCV(log_model,param_distributions=param_grid, n_iter = 10)\n",
    "grid_model = GridSearchCV(log_model,param_grid=param_grid)"
   ]
  },
  {
   "cell_type": "code",
   "execution_count": 29,
   "metadata": {},
   "outputs": [
    {
     "data": {
      "text/plain": [
       "GridSearchCV(estimator=LogisticRegression(max_iter=5000, multi_class='ovr',\n",
       "                                          solver='saga'),\n",
       "             param_grid={'C': array([1.00000000e-03, 2.23111111e-01, 4.45222222e-01, 6.67333333e-01,\n",
       "       8.89444444e-01, 1.11155556e+00, 1.33366667e+00, 1.55577778e+00,\n",
       "       1.77788889e+00, 2.00000000e+00]),\n",
       "                         'penalty': ['l1', 'l2']})"
      ]
     },
     "execution_count": 29,
     "metadata": {},
     "output_type": "execute_result"
    }
   ],
   "source": [
    "grid_model.fit(scaled_X_train, y_train)"
   ]
  },
  {
   "cell_type": "code",
   "execution_count": 30,
   "metadata": {},
   "outputs": [
    {
     "data": {
      "text/plain": [
       "{'C': 0.22311111111111112, 'penalty': 'l1'}"
      ]
     },
     "execution_count": 30,
     "metadata": {},
     "output_type": "execute_result"
    }
   ],
   "source": [
    "grid_model.best_params_"
   ]
  },
  {
   "cell_type": "markdown",
   "metadata": {},
   "source": [
    "Best params: <br>\n",
    "C: 0.223 <br>\n",
    "penalty: l1"
   ]
  },
  {
   "cell_type": "code",
   "execution_count": 31,
   "metadata": {},
   "outputs": [
    {
     "name": "stdout",
     "output_type": "stream",
     "text": [
      "              precision    recall  f1-score   support\n",
      "\n",
      "        high       0.59      0.29      0.39       318\n",
      "         low       0.64      0.59      0.61       492\n",
      "      medium       0.52      0.68      0.59       660\n",
      "\n",
      "    accuracy                           0.57      1470\n",
      "   macro avg       0.58      0.52      0.53      1470\n",
      "weighted avg       0.58      0.57      0.55      1470\n",
      "\n"
     ]
    }
   ],
   "source": [
    "y_pred = grid_model.predict(scaled_X_test)\n",
    "print(classification_report(y_test,y_pred))"
   ]
  },
  {
   "cell_type": "code",
   "execution_count": 32,
   "metadata": {},
   "outputs": [
    {
     "data": {
      "text/plain": [
       "Text(0.5, 1.0, 'logistic regression – white wine – 3 labels')"
      ]
     },
     "execution_count": 32,
     "metadata": {},
     "output_type": "execute_result"
    },
    {
     "data": {
      "text/plain": [
       "<Figure size 432x288 with 0 Axes>"
      ]
     },
     "metadata": {},
     "output_type": "display_data"
    },
    {
     "data": {
      "image/png": "[encoded data removed]",
      "text/plain": [
       "<Figure size 432x288 with 2 Axes>"
      ]
     },
     "metadata": {
      "needs_background": "light"
     },
     "output_type": "display_data"
    }
   ],
   "source": [
    "plt.figure()\n",
    "plot_confusion_matrix(grid_model, scaled_X_test, y_test)\n",
    "plt.xticks(rotation = 90)\n",
    "plt.title('logistic regression – white wine – 3 labels')\n"
   ]
  },
  {
   "cell_type": "markdown",
   "metadata": {},
   "source": [
    "<h2> 3 Quality Labels – White Wine – With SMOTE </h2>"
   ]
  },
  {
   "cell_type": "code",
   "execution_count": 33,
   "metadata": {},
   "outputs": [],
   "source": [
    "white_wine_trans_3Q = pd.read_csv('../transformed_wine_data/white_wine_trans_3Q.csv')"
   ]
  },
  {
   "cell_type": "code",
   "execution_count": 34,
   "metadata": {},
   "outputs": [],
   "source": [
    "X_white = white_wine_trans_3Q.drop(['quality_label', 'quality', 'type'], axis = 1)\n",
    "y_white = white_wine_trans_3Q['quality_label']"
   ]
  },
  {
   "cell_type": "code",
   "execution_count": 35,
   "metadata": {},
   "outputs": [],
   "source": [
    "# Train | Test split\n",
    "X_train, X_test, y_train, y_test = train_test_split(X_white, y_white, test_size=0.3, random_state=101, stratify = y_white)"
   ]
  },
  {
   "cell_type": "code",
   "execution_count": 36,
   "metadata": {},
   "outputs": [],
   "source": [
    "# Scale the data\n",
    "scaler = StandardScaler()\n",
    "scaler.fit(X_train)\n",
    "scaled_X_train = scaler.transform(X_train)\n",
    "scaled_X_test = scaler.transform(X_test)"
   ]
  },
  {
   "cell_type": "code",
   "execution_count": 37,
   "metadata": {},
   "outputs": [
    {
     "data": {
      "text/plain": [
       "medium    1538\n",
       "low       1148\n",
       "high       742\n",
       "Name: quality_label, dtype: int64"
      ]
     },
     "execution_count": 37,
     "metadata": {},
     "output_type": "execute_result"
    }
   ],
   "source": [
    "y_train.value_counts()"
   ]
  },
  {
   "cell_type": "code",
   "execution_count": 38,
   "metadata": {},
   "outputs": [],
   "source": [
    "under_strategy_white = {'medium': 1000, 'low': 1000, 'high': 742}\n",
    "over_strategy_white = {'medium': 1000, 'low': 1000, 'high': 1000}\n",
    "\n",
    "under_white = RandomUnderSampler(sampling_strategy = under_strategy_white)\n",
    "over_white = SMOTE (sampling_strategy = over_strategy_white)\n",
    "\n",
    "scaled_X_train, y_train = under_white.fit_resample(scaled_X_train, y_train)\n",
    "scaled_X_train, y_train = over_white.fit_resample(scaled_X_train, y_train)"
   ]
  },
  {
   "cell_type": "code",
   "execution_count": 39,
   "metadata": {},
   "outputs": [],
   "source": [
    "# Create base log reg model\n",
    "log_model = LogisticRegression(solver='saga',multi_class=\"ovr\",max_iter=5000)\n",
    "\n",
    "penalty = ['l1', 'l2']\n",
    "C = np.linspace(0.001,100,10)\n",
    "\n",
    "param_grid = {'penalty': penalty, 'C': C}\n",
    "\n",
    "#grid_model = RandomizedSearchCV(log_model,param_distributions=param_grid, n_iter = 5)\n",
    "grid_model = GridSearchCV(log_model,param_grid=param_grid)"
   ]
  },
  {
   "cell_type": "code",
   "execution_count": 40,
   "metadata": {},
   "outputs": [
    {
     "data": {
      "text/plain": [
       "GridSearchCV(estimator=LogisticRegression(max_iter=5000, multi_class='ovr',\n",
       "                                          solver='saga'),\n",
       "             param_grid={'C': array([1.0000e-03, 1.1112e+01, 2.2223e+01, 3.3334e+01, 4.4445e+01,\n",
       "       5.5556e+01, 6.6667e+01, 7.7778e+01, 8.8889e+01, 1.0000e+02]),\n",
       "                         'penalty': ['l1', 'l2']})"
      ]
     },
     "execution_count": 40,
     "metadata": {},
     "output_type": "execute_result"
    }
   ],
   "source": [
    "grid_model.fit(scaled_X_train, y_train)"
   ]
  },
  {
   "cell_type": "code",
   "execution_count": 41,
   "metadata": {},
   "outputs": [
    {
     "data": {
      "text/plain": [
       "{'C': 11.111999999999998, 'penalty': 'l1'}"
      ]
     },
     "execution_count": 41,
     "metadata": {},
     "output_type": "execute_result"
    }
   ],
   "source": [
    "grid_model.best_params_"
   ]
  },
  {
   "cell_type": "code",
   "execution_count": 42,
   "metadata": {},
   "outputs": [
    {
     "name": "stdout",
     "output_type": "stream",
     "text": [
      "              precision    recall  f1-score   support\n",
      "\n",
      "        high       0.43      0.76      0.55       318\n",
      "         low       0.56      0.73      0.64       492\n",
      "      medium       0.58      0.24      0.34       660\n",
      "\n",
      "    accuracy                           0.52      1470\n",
      "   macro avg       0.53      0.58      0.51      1470\n",
      "weighted avg       0.54      0.52      0.48      1470\n",
      "\n"
     ]
    }
   ],
   "source": [
    "y_pred = grid_model.predict(scaled_X_test)\n",
    "print(classification_report(y_test,y_pred))"
   ]
  },
  {
   "cell_type": "code",
   "execution_count": 43,
   "metadata": {},
   "outputs": [
    {
     "data": {
      "text/plain": [
       "Text(0.5, 1.0, 'logistic regression – white wine – 3 labels')"
      ]
     },
     "execution_count": 43,
     "metadata": {},
     "output_type": "execute_result"
    },
    {
     "data": {
      "text/plain": [
       "<Figure size 432x288 with 0 Axes>"
      ]
     },
     "metadata": {},
     "output_type": "display_data"
    },
    {
     "data": {
      "image/png": "[encoded data removed]",
      "text/plain": [
       "<Figure size 432x288 with 2 Axes>"
      ]
     },
     "metadata": {
      "needs_background": "light"
     },
     "output_type": "display_data"
    }
   ],
   "source": [
    "plt.figure()\n",
    "plot_confusion_matrix(grid_model, scaled_X_test, y_test)\n",
    "plt.xticks(rotation = 90)\n",
    "plt.title('logistic regression – white wine – 3 labels')\n"
   ]
  },
  {
   "cell_type": "code",
   "execution_count": null,
   "metadata": {},
   "outputs": [],
   "source": []
  },
  {
   "cell_type": "markdown",
   "metadata": {},
   "source": []
  }
 ],
 "metadata": {
  "interpreter": {
   "hash": "40d3a090f54c6569ab1632332b64b2c03c39dcf918b08424e98f38b5ae0af88f"
  },
  "kernelspec": {
   "display_name": "Python 3.9.7 ('base')",
   "language": "python",
   "name": "python3"
  },
  "language_info": {
   "codemirror_mode": {
    "name": "ipython",
    "version": 3
   },
   "file_extension": ".py",
   "mimetype": "text/x-python",
   "name": "python",
   "nbconvert_exporter": "python",
   "pygments_lexer": "ipython3",
   "version": "3.9.7"
  },
  "orig_nbformat": 4
 },
 "nbformat": 4,
 "nbformat_minor": 2
}
