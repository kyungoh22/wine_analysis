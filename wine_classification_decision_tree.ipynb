{
 "cells": [
  {
   "cell_type": "code",
   "execution_count": 37,
   "metadata": {},
   "outputs": [],
   "source": [
    "import numpy as np\n",
    "import pandas as pd\n",
    "import matplotlib.pyplot as plt\n",
    "import seaborn as sns\n",
    "from sklearn.linear_model import LinearRegression, Ridge, RidgeCV, Lasso, LassoCV, ElasticNet, ElasticNetCV, LogisticRegression\n",
    "from sklearn.metrics import mean_squared_error\n",
    "from sklearn.preprocessing import PolynomialFeatures, StandardScaler\n",
    "from sklearn.model_selection import train_test_split, cross_val_score, cross_validate, GridSearchCV, RandomizedSearchCV\n",
    "from sklearn.metrics import accuracy_score,confusion_matrix,classification_report,plot_confusion_matrix\n",
    "\n",
    "from sklearn.neighbors import KNeighborsClassifier\n",
    "from sklearn.svm import SVC\n",
    "\n",
    "from sklearn.pipeline import Pipeline\n",
    "\n",
    "import imblearn\n",
    "from imblearn.over_sampling import SMOTE\n",
    "from imblearn.under_sampling import RandomUnderSampler\n",
    "\n",
    "from sklearn.tree import DecisionTreeClassifier"
   ]
  },
  {
   "cell_type": "code",
   "execution_count": 38,
   "metadata": {},
   "outputs": [],
   "source": [
    "white_wine_trans = pd.read_csv('transformed_wine_data/white_wine_trans.csv')\n",
    "red_wine_trans = pd.read_csv('transformed_wine_data/red_wine_trans.csv')"
   ]
  },
  {
   "cell_type": "code",
   "execution_count": 39,
   "metadata": {},
   "outputs": [],
   "source": [
    "X_white = white_wine_trans.drop(['quality_label', 'quality', 'type'], axis = 1)\n",
    "y_white = white_wine_trans['quality_label']\n",
    "\n",
    "X_red = red_wine_trans.drop(['quality_label', 'quality', 'type'], axis = 1)\n",
    "y_red = red_wine_trans['quality_label']"
   ]
  },
  {
   "cell_type": "markdown",
   "metadata": {},
   "source": [
    "NOTE: Since decision tree evaluates each feature individually (one at a time), there's no need for feature scaling"
   ]
  },
  {
   "cell_type": "markdown",
   "metadata": {},
   "source": [
    "<h3> Decision Tree Approach – Red Wine </h3>"
   ]
  },
  {
   "cell_type": "code",
   "execution_count": 40,
   "metadata": {},
   "outputs": [],
   "source": [
    "X_train, X_test, y_train, y_test = train_test_split(X_red, y_red, test_size=0.3, random_state=101)"
   ]
  },
  {
   "cell_type": "markdown",
   "metadata": {},
   "source": [
    "<h5> Start with default hyper parameters </h3>"
   ]
  },
  {
   "cell_type": "code",
   "execution_count": 41,
   "metadata": {},
   "outputs": [],
   "source": [
    "model = DecisionTreeClassifier()"
   ]
  },
  {
   "cell_type": "code",
   "execution_count": 42,
   "metadata": {},
   "outputs": [
    {
     "data": {
      "text/plain": [
       "DecisionTreeClassifier()"
      ]
     },
     "execution_count": 42,
     "metadata": {},
     "output_type": "execute_result"
    }
   ],
   "source": [
    "model.fit(X_train,y_train)"
   ]
  },
  {
   "cell_type": "code",
   "execution_count": 43,
   "metadata": {},
   "outputs": [],
   "source": [
    "base_pred = model.predict(X_test)"
   ]
  },
  {
   "cell_type": "markdown",
   "metadata": {},
   "source": [
    "<h3> Evaluate </h3>"
   ]
  },
  {
   "cell_type": "code",
   "execution_count": 44,
   "metadata": {},
   "outputs": [
    {
     "name": "stdout",
     "output_type": "stream",
     "text": [
      "              precision    recall  f1-score   support\n",
      "\n",
      "        high       0.11      0.20      0.14         5\n",
      "         low       0.20      0.17      0.18        24\n",
      "lower_middle       0.75      0.68      0.71       208\n",
      "      middle       0.57      0.61      0.59       180\n",
      "upper_middle       0.48      0.52      0.50        63\n",
      "\n",
      "    accuracy                           0.60       480\n",
      "   macro avg       0.42      0.44      0.43       480\n",
      "weighted avg       0.61      0.60      0.61       480\n",
      "\n"
     ]
    }
   ],
   "source": [
    "print(classification_report(y_test,base_pred))"
   ]
  },
  {
   "cell_type": "markdown",
   "metadata": {},
   "source": [
    "Accuracy: 61% <br>\n",
    "f1 macro avg: 43%"
   ]
  },
  {
   "cell_type": "code",
   "execution_count": 45,
   "metadata": {},
   "outputs": [
    {
     "data": {
      "text/plain": [
       "array([0.08339032, 0.10068184, 0.07905877, 0.04475705, 0.07328515,\n",
       "       0.06197075, 0.1055492 , 0.07003865, 0.06127897, 0.14071855,\n",
       "       0.17927074])"
      ]
     },
     "execution_count": 45,
     "metadata": {},
     "output_type": "execute_result"
    }
   ],
   "source": [
    "model.feature_importances_"
   ]
  },
  {
   "cell_type": "code",
   "execution_count": 46,
   "metadata": {},
   "outputs": [
    {
     "data": {
      "text/html": [
       "<div>\n",
       "<style scoped>\n",
       "    .dataframe tbody tr th:only-of-type {\n",
       "        vertical-align: middle;\n",
       "    }\n",
       "\n",
       "    .dataframe tbody tr th {\n",
       "        vertical-align: top;\n",
       "    }\n",
       "\n",
       "    .dataframe thead th {\n",
       "        text-align: right;\n",
       "    }\n",
       "</style>\n",
       "<table border=\"1\" class=\"dataframe\">\n",
       "  <thead>\n",
       "    <tr style=\"text-align: right;\">\n",
       "      <th></th>\n",
       "      <th>Feature Importance</th>\n",
       "    </tr>\n",
       "  </thead>\n",
       "  <tbody>\n",
       "    <tr>\n",
       "      <th>fixed acidity</th>\n",
       "      <td>0.083390</td>\n",
       "    </tr>\n",
       "    <tr>\n",
       "      <th>volatile acidity</th>\n",
       "      <td>0.100682</td>\n",
       "    </tr>\n",
       "    <tr>\n",
       "      <th>citric acid</th>\n",
       "      <td>0.079059</td>\n",
       "    </tr>\n",
       "    <tr>\n",
       "      <th>residual sugar</th>\n",
       "      <td>0.044757</td>\n",
       "    </tr>\n",
       "    <tr>\n",
       "      <th>chlorides</th>\n",
       "      <td>0.073285</td>\n",
       "    </tr>\n",
       "    <tr>\n",
       "      <th>free sulfur dioxide</th>\n",
       "      <td>0.061971</td>\n",
       "    </tr>\n",
       "    <tr>\n",
       "      <th>total sulfur dioxide</th>\n",
       "      <td>0.105549</td>\n",
       "    </tr>\n",
       "    <tr>\n",
       "      <th>density</th>\n",
       "      <td>0.070039</td>\n",
       "    </tr>\n",
       "    <tr>\n",
       "      <th>pH</th>\n",
       "      <td>0.061279</td>\n",
       "    </tr>\n",
       "    <tr>\n",
       "      <th>sulphates</th>\n",
       "      <td>0.140719</td>\n",
       "    </tr>\n",
       "    <tr>\n",
       "      <th>alcohol</th>\n",
       "      <td>0.179271</td>\n",
       "    </tr>\n",
       "  </tbody>\n",
       "</table>\n",
       "</div>"
      ],
      "text/plain": [
       "                      Feature Importance\n",
       "fixed acidity                   0.083390\n",
       "volatile acidity                0.100682\n",
       "citric acid                     0.079059\n",
       "residual sugar                  0.044757\n",
       "chlorides                       0.073285\n",
       "free sulfur dioxide             0.061971\n",
       "total sulfur dioxide            0.105549\n",
       "density                         0.070039\n",
       "pH                              0.061279\n",
       "sulphates                       0.140719\n",
       "alcohol                         0.179271"
      ]
     },
     "execution_count": 46,
     "metadata": {},
     "output_type": "execute_result"
    }
   ],
   "source": [
    "pd.DataFrame(index=X_red.columns,data=model.feature_importances_, columns=['Feature Importance'])"
   ]
  },
  {
   "cell_type": "markdown",
   "metadata": {},
   "source": [
    "<h3> Visualise the Tree </h3>"
   ]
  },
  {
   "cell_type": "code",
   "execution_count": 47,
   "metadata": {},
   "outputs": [],
   "source": [
    "from sklearn.tree import plot_tree"
   ]
  },
  {
   "cell_type": "code",
   "execution_count": 48,
   "metadata": {},
   "outputs": [
    {
     "data": {
      "text/plain": [
       "'\\nplt.figure(figsize=(5,5))\\nplot_tree(model);\\n'"
      ]
     },
     "execution_count": 48,
     "metadata": {},
     "output_type": "execute_result"
    }
   ],
   "source": [
    "\"\"\"\n",
    "plt.figure(figsize=(5,5))\n",
    "plot_tree(model);\n",
    "\"\"\""
   ]
  },
  {
   "cell_type": "markdown",
   "metadata": {},
   "source": [
    "run time = 17 secs"
   ]
  },
  {
   "cell_type": "code",
   "execution_count": 49,
   "metadata": {},
   "outputs": [
    {
     "data": {
      "text/plain": [
       "'\\nplt.figure(figsize=(5,5),dpi=150)\\nplot_tree(model,filled=True,feature_names=X_red.columns);\\n'"
      ]
     },
     "execution_count": 49,
     "metadata": {},
     "output_type": "execute_result"
    }
   ],
   "source": [
    "\"\"\"\n",
    "plt.figure(figsize=(5,5),dpi=150)\n",
    "plot_tree(model,filled=True,feature_names=X_red.columns);\n",
    "\"\"\""
   ]
  },
  {
   "cell_type": "markdown",
   "metadata": {},
   "source": [
    "Code has been suppressed due to the tree's illegibility. "
   ]
  },
  {
   "cell_type": "markdown",
   "metadata": {},
   "source": [
    "<h3> Experiment with hyper parameters </h3>"
   ]
  },
  {
   "cell_type": "code",
   "execution_count": 50,
   "metadata": {},
   "outputs": [
    {
     "data": {
      "text/plain": [
       "DecisionTreeClassifier(max_depth=15)"
      ]
     },
     "execution_count": 50,
     "metadata": {},
     "output_type": "execute_result"
    }
   ],
   "source": [
    "decision_tree = DecisionTreeClassifier(max_depth=15)\n",
    "decision_tree.fit(X_train,y_train)"
   ]
  },
  {
   "cell_type": "code",
   "execution_count": 51,
   "metadata": {},
   "outputs": [],
   "source": [
    "preds = decision_tree.predict(X_test)"
   ]
  },
  {
   "cell_type": "code",
   "execution_count": 52,
   "metadata": {},
   "outputs": [
    {
     "name": "stdout",
     "output_type": "stream",
     "text": [
      "              precision    recall  f1-score   support\n",
      "\n",
      "        high       0.14      0.20      0.17         5\n",
      "         low       0.14      0.12      0.13        24\n",
      "lower_middle       0.72      0.68      0.70       208\n",
      "      middle       0.57      0.61      0.59       180\n",
      "upper_middle       0.50      0.49      0.50        63\n",
      "\n",
      "    accuracy                           0.60       480\n",
      "   macro avg       0.42      0.42      0.42       480\n",
      "weighted avg       0.60      0.60      0.60       480\n",
      "\n"
     ]
    }
   ],
   "source": [
    "print(classification_report(y_test, preds))"
   ]
  },
  {
   "cell_type": "code",
   "execution_count": 53,
   "metadata": {},
   "outputs": [
    {
     "data": {
      "text/plain": [
       "DecisionTreeClassifier(max_depth=30, max_leaf_nodes=100)"
      ]
     },
     "execution_count": 53,
     "metadata": {},
     "output_type": "execute_result"
    }
   ],
   "source": [
    "decision_tree = DecisionTreeClassifier(max_depth=30, max_leaf_nodes = 100)\n",
    "decision_tree.fit(X_train,y_train)"
   ]
  },
  {
   "cell_type": "code",
   "execution_count": 54,
   "metadata": {},
   "outputs": [
    {
     "name": "stdout",
     "output_type": "stream",
     "text": [
      "              precision    recall  f1-score   support\n",
      "\n",
      "        high       0.00      0.00      0.00         5\n",
      "         low       0.40      0.08      0.14        24\n",
      "lower_middle       0.74      0.71      0.72       208\n",
      "      middle       0.57      0.66      0.61       180\n",
      "upper_middle       0.46      0.51      0.48        63\n",
      "\n",
      "    accuracy                           0.62       480\n",
      "   macro avg       0.43      0.39      0.39       480\n",
      "weighted avg       0.62      0.62      0.61       480\n",
      "\n"
     ]
    }
   ],
   "source": [
    "preds = decision_tree.predict(X_test)\n",
    "print(classification_report(y_test, preds))"
   ]
  },
  {
   "cell_type": "markdown",
   "metadata": {},
   "source": [
    "Here you've increased the overall accuracy but worsened the f1 scores."
   ]
  },
  {
   "cell_type": "markdown",
   "metadata": {},
   "source": [
    "<h3> Grid Search for hyper parameters </h3>"
   ]
  },
  {
   "cell_type": "code",
   "execution_count": 60,
   "metadata": {},
   "outputs": [],
   "source": [
    "decision_tree = DecisionTreeClassifier()\n",
    "param_grid = {'max_depth': [3, 5, 10,15,20,30,50],\n",
    "              'max_leaf_nodes': [10, 30, 50, 70, 100],\n",
    "              'min_samples_split': [2, 5, 10, 15, 20]}\n",
    "grid_model = GridSearchCV(decision_tree, param_grid, scoring = 'f1_macro')"
   ]
  },
  {
   "cell_type": "code",
   "execution_count": 61,
   "metadata": {},
   "outputs": [
    {
     "data": {
      "text/plain": [
       "GridSearchCV(estimator=DecisionTreeClassifier(),\n",
       "             param_grid={'max_depth': [3, 5, 10, 15, 20, 30, 50],\n",
       "                         'max_leaf_nodes': [10, 30, 50, 70, 100],\n",
       "                         'min_samples_split': [2, 5, 10, 15, 20]},\n",
       "             scoring='f1_macro')"
      ]
     },
     "execution_count": 61,
     "metadata": {},
     "output_type": "execute_result"
    }
   ],
   "source": [
    "grid_model.fit(X_train, y_train)"
   ]
  },
  {
   "cell_type": "code",
   "execution_count": 62,
   "metadata": {},
   "outputs": [
    {
     "data": {
      "text/plain": [
       "{'max_depth': 50, 'max_leaf_nodes': 100, 'min_samples_split': 5}"
      ]
     },
     "execution_count": 62,
     "metadata": {},
     "output_type": "execute_result"
    }
   ],
   "source": [
    "grid_model.best_params_"
   ]
  },
  {
   "cell_type": "code",
   "execution_count": 63,
   "metadata": {},
   "outputs": [],
   "source": [
    "y_pred = grid_model.predict(X_test)"
   ]
  },
  {
   "cell_type": "code",
   "execution_count": 64,
   "metadata": {},
   "outputs": [
    {
     "name": "stdout",
     "output_type": "stream",
     "text": [
      "              precision    recall  f1-score   support\n",
      "\n",
      "        high       0.00      0.00      0.00         5\n",
      "         low       0.29      0.08      0.13        24\n",
      "lower_middle       0.73      0.70      0.71       208\n",
      "      middle       0.56      0.63      0.59       180\n",
      "upper_middle       0.46      0.49      0.48        63\n",
      "\n",
      "    accuracy                           0.61       480\n",
      "   macro avg       0.41      0.38      0.38       480\n",
      "weighted avg       0.60      0.61      0.60       480\n",
      "\n"
     ]
    }
   ],
   "source": [
    "print(classification_report(y_test,y_pred))"
   ]
  },
  {
   "cell_type": "markdown",
   "metadata": {},
   "source": [
    "Even after tuning the hyper parameters, still have: <br>\n",
    "accuracy: 61% <br>\n",
    "f1 macro avg: 38%"
   ]
  },
  {
   "cell_type": "markdown",
   "metadata": {},
   "source": [
    "<h3> Decision Tree Approach – White Wine </h3>"
   ]
  },
  {
   "cell_type": "code",
   "execution_count": 66,
   "metadata": {},
   "outputs": [],
   "source": [
    "X_train, X_test, y_train, y_test = train_test_split(X_white, y_white, test_size=0.3, random_state=101)"
   ]
  },
  {
   "cell_type": "markdown",
   "metadata": {},
   "source": [
    "<h5> Start with default hyper parameters </h3>"
   ]
  },
  {
   "cell_type": "code",
   "execution_count": 67,
   "metadata": {},
   "outputs": [],
   "source": [
    "model = DecisionTreeClassifier()"
   ]
  },
  {
   "cell_type": "code",
   "execution_count": 68,
   "metadata": {},
   "outputs": [
    {
     "data": {
      "text/plain": [
       "DecisionTreeClassifier()"
      ]
     },
     "execution_count": 68,
     "metadata": {},
     "output_type": "execute_result"
    }
   ],
   "source": [
    "model.fit(X_train,y_train)"
   ]
  },
  {
   "cell_type": "code",
   "execution_count": 69,
   "metadata": {},
   "outputs": [],
   "source": [
    "base_pred = model.predict(X_test)"
   ]
  },
  {
   "cell_type": "markdown",
   "metadata": {},
   "source": [
    "<h3> Evaluate </h3>"
   ]
  },
  {
   "cell_type": "code",
   "execution_count": 70,
   "metadata": {},
   "outputs": [
    {
     "name": "stdout",
     "output_type": "stream",
     "text": [
      "              precision    recall  f1-score   support\n",
      "\n",
      "        high       0.37      0.42      0.39        55\n",
      "         low       0.28      0.25      0.26        60\n",
      "lower_middle       0.60      0.62      0.61       438\n",
      "      middle       0.65      0.61      0.63       666\n",
      "upper_middle       0.50      0.55      0.53       251\n",
      "\n",
      "    accuracy                           0.58      1470\n",
      "   macro avg       0.48      0.49      0.48      1470\n",
      "weighted avg       0.58      0.58      0.58      1470\n",
      "\n"
     ]
    }
   ],
   "source": [
    "print(classification_report(y_test,base_pred))"
   ]
  },
  {
   "cell_type": "markdown",
   "metadata": {},
   "source": [
    "Accuracy: 58% <br>\n",
    "f1 macro avg: 48%"
   ]
  },
  {
   "cell_type": "code",
   "execution_count": 71,
   "metadata": {},
   "outputs": [
    {
     "data": {
      "text/plain": [
       "array([0.07751163, 0.09744865, 0.09065341, 0.09390186, 0.06030415,\n",
       "       0.1003461 , 0.08812947, 0.07460188, 0.0869908 , 0.0791402 ,\n",
       "       0.15097184])"
      ]
     },
     "execution_count": 71,
     "metadata": {},
     "output_type": "execute_result"
    }
   ],
   "source": [
    "model.feature_importances_"
   ]
  },
  {
   "cell_type": "code",
   "execution_count": 72,
   "metadata": {},
   "outputs": [
    {
     "data": {
      "text/html": [
       "<div>\n",
       "<style scoped>\n",
       "    .dataframe tbody tr th:only-of-type {\n",
       "        vertical-align: middle;\n",
       "    }\n",
       "\n",
       "    .dataframe tbody tr th {\n",
       "        vertical-align: top;\n",
       "    }\n",
       "\n",
       "    .dataframe thead th {\n",
       "        text-align: right;\n",
       "    }\n",
       "</style>\n",
       "<table border=\"1\" class=\"dataframe\">\n",
       "  <thead>\n",
       "    <tr style=\"text-align: right;\">\n",
       "      <th></th>\n",
       "      <th>Feature Importance</th>\n",
       "    </tr>\n",
       "  </thead>\n",
       "  <tbody>\n",
       "    <tr>\n",
       "      <th>fixed acidity</th>\n",
       "      <td>0.077512</td>\n",
       "    </tr>\n",
       "    <tr>\n",
       "      <th>volatile acidity</th>\n",
       "      <td>0.097449</td>\n",
       "    </tr>\n",
       "    <tr>\n",
       "      <th>citric acid</th>\n",
       "      <td>0.090653</td>\n",
       "    </tr>\n",
       "    <tr>\n",
       "      <th>residual sugar</th>\n",
       "      <td>0.093902</td>\n",
       "    </tr>\n",
       "    <tr>\n",
       "      <th>chlorides</th>\n",
       "      <td>0.060304</td>\n",
       "    </tr>\n",
       "    <tr>\n",
       "      <th>free sulfur dioxide</th>\n",
       "      <td>0.100346</td>\n",
       "    </tr>\n",
       "    <tr>\n",
       "      <th>total sulfur dioxide</th>\n",
       "      <td>0.088129</td>\n",
       "    </tr>\n",
       "    <tr>\n",
       "      <th>density</th>\n",
       "      <td>0.074602</td>\n",
       "    </tr>\n",
       "    <tr>\n",
       "      <th>pH</th>\n",
       "      <td>0.086991</td>\n",
       "    </tr>\n",
       "    <tr>\n",
       "      <th>sulphates</th>\n",
       "      <td>0.079140</td>\n",
       "    </tr>\n",
       "    <tr>\n",
       "      <th>alcohol</th>\n",
       "      <td>0.150972</td>\n",
       "    </tr>\n",
       "  </tbody>\n",
       "</table>\n",
       "</div>"
      ],
      "text/plain": [
       "                      Feature Importance\n",
       "fixed acidity                   0.077512\n",
       "volatile acidity                0.097449\n",
       "citric acid                     0.090653\n",
       "residual sugar                  0.093902\n",
       "chlorides                       0.060304\n",
       "free sulfur dioxide             0.100346\n",
       "total sulfur dioxide            0.088129\n",
       "density                         0.074602\n",
       "pH                              0.086991\n",
       "sulphates                       0.079140\n",
       "alcohol                         0.150972"
      ]
     },
     "execution_count": 72,
     "metadata": {},
     "output_type": "execute_result"
    }
   ],
   "source": [
    "pd.DataFrame(index=X_red.columns,data=model.feature_importances_, columns=['Feature Importance'])"
   ]
  },
  {
   "cell_type": "markdown",
   "metadata": {},
   "source": [
    "<h3> Visualise the Tree </h3>"
   ]
  },
  {
   "cell_type": "code",
   "execution_count": null,
   "metadata": {},
   "outputs": [],
   "source": [
    "from sklearn.tree import plot_tree"
   ]
  },
  {
   "cell_type": "code",
   "execution_count": null,
   "metadata": {},
   "outputs": [
    {
     "data": {
      "text/plain": [
       "'\\nplt.figure(figsize=(5,5))\\nplot_tree(model);\\n'"
      ]
     },
     "metadata": {},
     "output_type": "display_data"
    }
   ],
   "source": [
    "\"\"\"\n",
    "plt.figure(figsize=(5,5))\n",
    "plot_tree(model);\n",
    "\"\"\""
   ]
  },
  {
   "cell_type": "markdown",
   "metadata": {},
   "source": [
    "run time = 17 secs"
   ]
  },
  {
   "cell_type": "code",
   "execution_count": null,
   "metadata": {},
   "outputs": [
    {
     "data": {
      "text/plain": [
       "'\\nplt.figure(figsize=(5,5),dpi=150)\\nplot_tree(model,filled=True,feature_names=X_red.columns);\\n'"
      ]
     },
     "metadata": {},
     "output_type": "display_data"
    }
   ],
   "source": [
    "\"\"\"\n",
    "plt.figure(figsize=(5,5),dpi=150)\n",
    "plot_tree(model,filled=True,feature_names=X_red.columns);\n",
    "\"\"\""
   ]
  },
  {
   "cell_type": "markdown",
   "metadata": {},
   "source": [
    "Code has been suppressed due to the tree's illegibility. "
   ]
  },
  {
   "cell_type": "markdown",
   "metadata": {},
   "source": [
    "<h3> Experiment with hyper parameters </h3>"
   ]
  },
  {
   "cell_type": "code",
   "execution_count": 73,
   "metadata": {},
   "outputs": [
    {
     "data": {
      "text/plain": [
       "DecisionTreeClassifier(max_depth=15)"
      ]
     },
     "execution_count": 73,
     "metadata": {},
     "output_type": "execute_result"
    }
   ],
   "source": [
    "decision_tree = DecisionTreeClassifier(max_depth=15)\n",
    "decision_tree.fit(X_train,y_train)"
   ]
  },
  {
   "cell_type": "code",
   "execution_count": 74,
   "metadata": {},
   "outputs": [],
   "source": [
    "preds = decision_tree.predict(X_test)"
   ]
  },
  {
   "cell_type": "code",
   "execution_count": 75,
   "metadata": {},
   "outputs": [
    {
     "name": "stdout",
     "output_type": "stream",
     "text": [
      "              precision    recall  f1-score   support\n",
      "\n",
      "        high       0.38      0.33      0.35        55\n",
      "         low       0.18      0.15      0.17        60\n",
      "lower_middle       0.59      0.60      0.59       438\n",
      "      middle       0.61      0.62      0.61       666\n",
      "upper_middle       0.49      0.48      0.48       251\n",
      "\n",
      "    accuracy                           0.56      1470\n",
      "   macro avg       0.45      0.44      0.44      1470\n",
      "weighted avg       0.56      0.56      0.56      1470\n",
      "\n"
     ]
    }
   ],
   "source": [
    "print(classification_report(y_test, preds))"
   ]
  },
  {
   "cell_type": "code",
   "execution_count": 76,
   "metadata": {},
   "outputs": [
    {
     "data": {
      "text/plain": [
       "DecisionTreeClassifier(max_depth=30, max_leaf_nodes=100)"
      ]
     },
     "execution_count": 76,
     "metadata": {},
     "output_type": "execute_result"
    }
   ],
   "source": [
    "decision_tree = DecisionTreeClassifier(max_depth=30, max_leaf_nodes = 100)\n",
    "decision_tree.fit(X_train,y_train)"
   ]
  },
  {
   "cell_type": "code",
   "execution_count": 77,
   "metadata": {},
   "outputs": [
    {
     "name": "stdout",
     "output_type": "stream",
     "text": [
      "              precision    recall  f1-score   support\n",
      "\n",
      "        high       0.35      0.15      0.21        55\n",
      "         low       0.31      0.08      0.13        60\n",
      "lower_middle       0.55      0.59      0.57       438\n",
      "      middle       0.55      0.63      0.59       666\n",
      "upper_middle       0.43      0.32      0.37       251\n",
      "\n",
      "    accuracy                           0.53      1470\n",
      "   macro avg       0.44      0.35      0.37      1470\n",
      "weighted avg       0.51      0.53      0.51      1470\n",
      "\n"
     ]
    }
   ],
   "source": [
    "preds = decision_tree.predict(X_test)\n",
    "print(classification_report(y_test, preds))"
   ]
  },
  {
   "cell_type": "markdown",
   "metadata": {},
   "source": [
    "<h3> Grid Search for hyper parameters </h3>"
   ]
  },
  {
   "cell_type": "code",
   "execution_count": 90,
   "metadata": {},
   "outputs": [],
   "source": [
    "decision_tree = DecisionTreeClassifier()\n",
    "param_grid = {'max_depth': [3, 5, 10,15,20,30,50],\n",
    "              'max_leaf_nodes': [10, 30, 50, 70, 100],\n",
    "              'min_samples_split': [2, 5, 10, 15, 20]}\n",
    "grid_model = GridSearchCV(decision_tree, param_grid, scoring = 'f1_micro')"
   ]
  },
  {
   "cell_type": "code",
   "execution_count": 91,
   "metadata": {},
   "outputs": [
    {
     "data": {
      "text/plain": [
       "GridSearchCV(estimator=DecisionTreeClassifier(),\n",
       "             param_grid={'max_depth': [3, 5, 10, 15, 20, 30, 50],\n",
       "                         'max_leaf_nodes': [10, 30, 50, 70, 100],\n",
       "                         'min_samples_split': [2, 5, 10, 15, 20]},\n",
       "             scoring='f1_micro')"
      ]
     },
     "execution_count": 91,
     "metadata": {},
     "output_type": "execute_result"
    }
   ],
   "source": [
    "grid_model.fit(X_train, y_train)"
   ]
  },
  {
   "cell_type": "code",
   "execution_count": 92,
   "metadata": {},
   "outputs": [
    {
     "data": {
      "text/plain": [
       "{'max_depth': 30, 'max_leaf_nodes': 100, 'min_samples_split': 10}"
      ]
     },
     "execution_count": 92,
     "metadata": {},
     "output_type": "execute_result"
    }
   ],
   "source": [
    "grid_model.best_params_"
   ]
  },
  {
   "cell_type": "code",
   "execution_count": 93,
   "metadata": {},
   "outputs": [],
   "source": [
    "y_pred = grid_model.predict(X_test)"
   ]
  },
  {
   "cell_type": "code",
   "execution_count": 94,
   "metadata": {},
   "outputs": [
    {
     "name": "stdout",
     "output_type": "stream",
     "text": [
      "              precision    recall  f1-score   support\n",
      "\n",
      "        high       0.35      0.15      0.21        55\n",
      "         low       0.31      0.08      0.13        60\n",
      "lower_middle       0.55      0.59      0.57       438\n",
      "      middle       0.55      0.63      0.59       666\n",
      "upper_middle       0.43      0.32      0.37       251\n",
      "\n",
      "    accuracy                           0.53      1470\n",
      "   macro avg       0.44      0.35      0.37      1470\n",
      "weighted avg       0.51      0.53      0.51      1470\n",
      "\n"
     ]
    }
   ],
   "source": [
    "print(classification_report(y_test,y_pred))"
   ]
  },
  {
   "cell_type": "markdown",
   "metadata": {},
   "source": [
    "Accuracy: 53% <br>\n",
    "f1 macro avg: 37%"
   ]
  },
  {
   "cell_type": "markdown",
   "metadata": {},
   "source": [
    "<h2> Decision Tree with Smote </h2>"
   ]
  },
  {
   "cell_type": "markdown",
   "metadata": {},
   "source": [
    "<h3> White Wine </h3>"
   ]
  },
  {
   "cell_type": "code",
   "execution_count": 114,
   "metadata": {},
   "outputs": [],
   "source": [
    "# Working with white wine data\n",
    "X_train, X_test, y_train, y_test = train_test_split(X_white, y_white, test_size=0.3, random_state=101)"
   ]
  },
  {
   "cell_type": "code",
   "execution_count": 115,
   "metadata": {},
   "outputs": [
    {
     "data": {
      "text/plain": [
       "middle          1532\n",
       "lower_middle    1019\n",
       "upper_middle     629\n",
       "high             125\n",
       "low              123\n",
       "Name: quality_label, dtype: int64"
      ]
     },
     "execution_count": 115,
     "metadata": {},
     "output_type": "execute_result"
    }
   ],
   "source": [
    "y_train.value_counts()"
   ]
  },
  {
   "cell_type": "code",
   "execution_count": 116,
   "metadata": {},
   "outputs": [],
   "source": [
    "under_strategy_white = {'middle': 1200, 'lower_middle': 900, 'upper_middle': 600, 'low': 123, 'high': 125}\n",
    "over_strategy_white = {'middle': 1200, 'lower_middle': 900, 'upper_middle': 600, 'low': 600, 'high': 600}\n",
    "\n",
    "under_white = RandomUnderSampler(sampling_strategy = under_strategy_white)\n",
    "over_white = SMOTE (sampling_strategy = over_strategy_white)\n",
    "\n",
    "X_train, y_train = under_white.fit_resample(X_train, y_train)\n",
    "X_train, y_train = over_white.fit_resample(X_train, y_train)"
   ]
  },
  {
   "cell_type": "code",
   "execution_count": 117,
   "metadata": {},
   "outputs": [
    {
     "data": {
      "text/plain": [
       "middle          1200\n",
       "lower_middle     900\n",
       "high             600\n",
       "low              600\n",
       "upper_middle     600\n",
       "Name: quality_label, dtype: int64"
      ]
     },
     "execution_count": 117,
     "metadata": {},
     "output_type": "execute_result"
    }
   ],
   "source": [
    "y_train.value_counts()"
   ]
  },
  {
   "cell_type": "code",
   "execution_count": 118,
   "metadata": {},
   "outputs": [],
   "source": [
    "decision_tree = DecisionTreeClassifier()\n",
    "param_grid = {'max_depth': [3, 5, 10,15,20,30,50],\n",
    "              'max_leaf_nodes': [10, 30, 50, 70, 100],\n",
    "              'min_samples_split': [2, 5, 10, 15, 20]}\n",
    "grid_model = GridSearchCV(decision_tree, param_grid, scoring = 'f1_micro')"
   ]
  },
  {
   "cell_type": "code",
   "execution_count": 110,
   "metadata": {},
   "outputs": [
    {
     "data": {
      "text/plain": [
       "GridSearchCV(estimator=DecisionTreeClassifier(),\n",
       "             param_grid={'max_depth': [3, 5, 10, 15, 20, 30, 50],\n",
       "                         'max_leaf_nodes': [10, 30, 50, 70, 100],\n",
       "                         'min_samples_split': [2, 5, 10, 15, 20]},\n",
       "             scoring='f1_micro')"
      ]
     },
     "execution_count": 110,
     "metadata": {},
     "output_type": "execute_result"
    }
   ],
   "source": [
    "grid_model.fit(X_train, y_train)"
   ]
  },
  {
   "cell_type": "code",
   "execution_count": 111,
   "metadata": {},
   "outputs": [
    {
     "data": {
      "text/plain": [
       "{'max_depth': 20, 'max_leaf_nodes': 70, 'min_samples_split': 20}"
      ]
     },
     "execution_count": 111,
     "metadata": {},
     "output_type": "execute_result"
    }
   ],
   "source": [
    "grid_model.best_params_"
   ]
  },
  {
   "cell_type": "code",
   "execution_count": 112,
   "metadata": {},
   "outputs": [],
   "source": [
    "y_pred = grid_model.predict(X_test)"
   ]
  },
  {
   "cell_type": "code",
   "execution_count": 113,
   "metadata": {},
   "outputs": [
    {
     "name": "stdout",
     "output_type": "stream",
     "text": [
      "              precision    recall  f1-score   support\n",
      "\n",
      "        high       0.14      0.31      0.19        55\n",
      "         low       0.16      0.37      0.22        60\n",
      "lower_middle       0.56      0.46      0.51       438\n",
      "      middle       0.54      0.58      0.56       666\n",
      "upper_middle       0.39      0.20      0.27       251\n",
      "\n",
      "    accuracy                           0.46      1470\n",
      "   macro avg       0.36      0.38      0.35      1470\n",
      "weighted avg       0.49      0.46      0.47      1470\n",
      "\n"
     ]
    }
   ],
   "source": [
    "print(classification_report(y_test,y_pred))"
   ]
  },
  {
   "cell_type": "markdown",
   "metadata": {},
   "source": [
    "Without smote: <br>\n",
    "Accuracy: 53% <br>\n",
    "f1 macro avg: 37% <br><br>\n",
    "\n",
    "With smote: <br>\n",
    "Accuracy: 46% <br>\n",
    "f1 macro avg: 35% <br>\n",
    "\n",
    "Performance got worse"
   ]
  },
  {
   "cell_type": "markdown",
   "metadata": {},
   "source": [
    "<h3> Red Wine </h3>"
   ]
  },
  {
   "cell_type": "code",
   "execution_count": 128,
   "metadata": {},
   "outputs": [],
   "source": [
    "# Working with white wine data\n",
    "X_train, X_test, y_train, y_test = train_test_split(X_red, y_red, test_size=0.3, random_state=101)"
   ]
  },
  {
   "cell_type": "code",
   "execution_count": 129,
   "metadata": {},
   "outputs": [
    {
     "data": {
      "text/plain": [
       "lower_middle    473\n",
       "middle          458\n",
       "upper_middle    136\n",
       "low              39\n",
       "high             13\n",
       "Name: quality_label, dtype: int64"
      ]
     },
     "execution_count": 129,
     "metadata": {},
     "output_type": "execute_result"
    }
   ],
   "source": [
    "y_train.value_counts()"
   ]
  },
  {
   "cell_type": "code",
   "execution_count": 130,
   "metadata": {},
   "outputs": [],
   "source": [
    "under_strategy_red = {'middle': 450, 'lower_middle': 450, 'upper_middle': 136, 'low': 39, 'high': 13}\n",
    "over_strategy_red = {'middle': 450, 'lower_middle': 450, 'upper_middle': 400, 'low': 200, 'high': 200}\n",
    "\n",
    "under_red = RandomUnderSampler(sampling_strategy = under_strategy_red)\n",
    "over_red = SMOTE (sampling_strategy = over_strategy_red)\n",
    "\n",
    "X_train, y_train = under_red.fit_resample(X_train, y_train)\n",
    "X_train, y_train = over_red.fit_resample(X_train, y_train)"
   ]
  },
  {
   "cell_type": "code",
   "execution_count": 131,
   "metadata": {},
   "outputs": [
    {
     "data": {
      "text/plain": [
       "lower_middle    450\n",
       "middle          450\n",
       "upper_middle    400\n",
       "high            200\n",
       "low             200\n",
       "Name: quality_label, dtype: int64"
      ]
     },
     "execution_count": 131,
     "metadata": {},
     "output_type": "execute_result"
    }
   ],
   "source": [
    "y_train.value_counts()"
   ]
  },
  {
   "cell_type": "code",
   "execution_count": 132,
   "metadata": {},
   "outputs": [],
   "source": [
    "decision_tree = DecisionTreeClassifier()\n",
    "param_grid = {'max_depth': [3, 5, 10,15,20,30,50],\n",
    "              'max_leaf_nodes': [10, 30, 50, 70, 100],\n",
    "              'min_samples_split': [2, 5, 10, 15, 20]}\n",
    "grid_model = GridSearchCV(decision_tree, param_grid, scoring = 'f1_micro')"
   ]
  },
  {
   "cell_type": "code",
   "execution_count": 133,
   "metadata": {},
   "outputs": [
    {
     "data": {
      "text/plain": [
       "GridSearchCV(estimator=DecisionTreeClassifier(),\n",
       "             param_grid={'max_depth': [3, 5, 10, 15, 20, 30, 50],\n",
       "                         'max_leaf_nodes': [10, 30, 50, 70, 100],\n",
       "                         'min_samples_split': [2, 5, 10, 15, 20]},\n",
       "             scoring='f1_micro')"
      ]
     },
     "execution_count": 133,
     "metadata": {},
     "output_type": "execute_result"
    }
   ],
   "source": [
    "grid_model.fit(X_train, y_train)"
   ]
  },
  {
   "cell_type": "code",
   "execution_count": 134,
   "metadata": {},
   "outputs": [
    {
     "data": {
      "text/plain": [
       "{'max_depth': 30, 'max_leaf_nodes': 100, 'min_samples_split': 10}"
      ]
     },
     "execution_count": 134,
     "metadata": {},
     "output_type": "execute_result"
    }
   ],
   "source": [
    "grid_model.best_params_"
   ]
  },
  {
   "cell_type": "code",
   "execution_count": 135,
   "metadata": {},
   "outputs": [],
   "source": [
    "y_pred = grid_model.predict(X_test)"
   ]
  },
  {
   "cell_type": "code",
   "execution_count": 136,
   "metadata": {},
   "outputs": [
    {
     "name": "stdout",
     "output_type": "stream",
     "text": [
      "              precision    recall  f1-score   support\n",
      "\n",
      "        high       0.14      0.40      0.21         5\n",
      "         low       0.26      0.33      0.29        24\n",
      "lower_middle       0.68      0.62      0.65       208\n",
      "      middle       0.51      0.46      0.48       180\n",
      "upper_middle       0.39      0.51      0.44        63\n",
      "\n",
      "    accuracy                           0.53       480\n",
      "   macro avg       0.40      0.46      0.41       480\n",
      "weighted avg       0.55      0.53      0.54       480\n",
      "\n"
     ]
    }
   ],
   "source": [
    "print(classification_report(y_test,y_pred))"
   ]
  },
  {
   "cell_type": "markdown",
   "metadata": {},
   "source": [
    "Red wine without smote: <br>\n",
    "accuracy: 61% <br>\n",
    "f1 macro avg: 38% <br>\n",
    "\n",
    "Red wine with smote: <br>\n",
    "accuracy: 53% <br>\n",
    "f1 macro avg: 41% "
   ]
  },
  {
   "cell_type": "markdown",
   "metadata": {},
   "source": []
  }
 ],
 "metadata": {
  "interpreter": {
   "hash": "40d3a090f54c6569ab1632332b64b2c03c39dcf918b08424e98f38b5ae0af88f"
  },
  "kernelspec": {
   "display_name": "Python 3.9.7 ('base')",
   "language": "python",
   "name": "python3"
  },
  "language_info": {
   "codemirror_mode": {
    "name": "ipython",
    "version": 3
   },
   "file_extension": ".py",
   "mimetype": "text/x-python",
   "name": "python",
   "nbconvert_exporter": "python",
   "pygments_lexer": "ipython3",
   "version": "3.9.7"
  },
  "orig_nbformat": 4
 },
 "nbformat": 4,
 "nbformat_minor": 2
}
